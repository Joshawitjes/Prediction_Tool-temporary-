{
 "cells": [
  {
   "cell_type": "markdown",
   "metadata": {},
   "source": [
    "### Predicting Depth with robust Random Forest Method"
   ]
  },
  {
   "cell_type": "code",
   "execution_count": 2,
   "metadata": {},
   "outputs": [],
   "source": [
    "# Install packages\n",
    "import statsmodels.api as sm\n",
    "import numpy as np\n",
    "import matplotlib.pyplot as plt\n",
    "import pandas as pd\n",
    "import seaborn as sns\n",
    "from sklearn.model_selection import train_test_split, cross_val_score\n",
    "from sklearn import linear_model\n",
    "from sklearn.linear_model import LinearRegression\n",
    "from sklearn import metrics\n",
    "from sklearn.metrics import mean_squared_error, mean_absolute_error, r2_score"
   ]
  },
  {
   "cell_type": "code",
   "execution_count": 3,
   "metadata": {},
   "outputs": [
    {
     "data": {
      "application/vnd.microsoft.datawrangler.viewer.v0+json": {
       "columns": [
        {
         "name": "index",
         "rawType": "int64",
         "type": "integer"
        },
        {
         "name": "Number",
         "rawType": "object",
         "type": "string"
        },
        {
         "name": "Yard",
         "rawType": "object",
         "type": "unknown"
        },
        {
         "name": "Length Over All",
         "rawType": "float64",
         "type": "float"
        },
        {
         "name": "Draught Design Deadweight",
         "rawType": "float64",
         "type": "float"
        },
        {
         "name": "Depth",
         "rawType": "float64",
         "type": "float"
        },
        {
         "name": "Beam Moulded",
         "rawType": "float64",
         "type": "float"
        }
       ],
       "conversionMethod": "pd.DataFrame",
       "ref": "7441868f-2f97-4f5a-9e1f-af6a3022436a",
       "rows": [
        [
         "0",
         "DN3423",
         null,
         "128.8",
         "6.0",
         "11.55",
         "22.5"
        ],
        [
         "1",
         "YN831 DN3365",
         "Royal van Lent, Amsterdam",
         "143.5",
         "5.95",
         "11.35",
         "20.0"
        ],
        [
         "2",
         "DN3331",
         null,
         "136.0",
         "5.83",
         "9.93",
         "19.75"
        ],
        [
         "3",
         "DN2631 ",
         null,
         "180.0",
         "5.8",
         "12.9",
         "22.5"
        ],
        [
         "4",
         "DN3403",
         null,
         "131.0",
         "5.6",
         "11.1",
         "21.2"
        ]
       ],
       "shape": {
        "columns": 6,
        "rows": 5
       }
      },
      "text/html": [
       "<div>\n",
       "<style scoped>\n",
       "    .dataframe tbody tr th:only-of-type {\n",
       "        vertical-align: middle;\n",
       "    }\n",
       "\n",
       "    .dataframe tbody tr th {\n",
       "        vertical-align: top;\n",
       "    }\n",
       "\n",
       "    .dataframe thead th {\n",
       "        text-align: right;\n",
       "    }\n",
       "</style>\n",
       "<table border=\"1\" class=\"dataframe\">\n",
       "  <thead>\n",
       "    <tr style=\"text-align: right;\">\n",
       "      <th></th>\n",
       "      <th>Number</th>\n",
       "      <th>Yard</th>\n",
       "      <th>Length Over All</th>\n",
       "      <th>Draught Design Deadweight</th>\n",
       "      <th>Depth</th>\n",
       "      <th>Beam Moulded</th>\n",
       "    </tr>\n",
       "  </thead>\n",
       "  <tbody>\n",
       "    <tr>\n",
       "      <th>0</th>\n",
       "      <td>DN3423</td>\n",
       "      <td>NaN</td>\n",
       "      <td>128.8</td>\n",
       "      <td>6.00</td>\n",
       "      <td>11.55</td>\n",
       "      <td>22.50</td>\n",
       "    </tr>\n",
       "    <tr>\n",
       "      <th>1</th>\n",
       "      <td>YN831 DN3365</td>\n",
       "      <td>Royal van Lent, Amsterdam</td>\n",
       "      <td>143.5</td>\n",
       "      <td>5.95</td>\n",
       "      <td>11.35</td>\n",
       "      <td>20.00</td>\n",
       "    </tr>\n",
       "    <tr>\n",
       "      <th>2</th>\n",
       "      <td>DN3331</td>\n",
       "      <td>NaN</td>\n",
       "      <td>136.0</td>\n",
       "      <td>5.83</td>\n",
       "      <td>9.93</td>\n",
       "      <td>19.75</td>\n",
       "    </tr>\n",
       "    <tr>\n",
       "      <th>3</th>\n",
       "      <td>DN2631</td>\n",
       "      <td>NaN</td>\n",
       "      <td>180.0</td>\n",
       "      <td>5.80</td>\n",
       "      <td>12.90</td>\n",
       "      <td>22.50</td>\n",
       "    </tr>\n",
       "    <tr>\n",
       "      <th>4</th>\n",
       "      <td>DN3403</td>\n",
       "      <td>NaN</td>\n",
       "      <td>131.0</td>\n",
       "      <td>5.60</td>\n",
       "      <td>11.10</td>\n",
       "      <td>21.20</td>\n",
       "    </tr>\n",
       "  </tbody>\n",
       "</table>\n",
       "</div>"
      ],
      "text/plain": [
       "         Number                       Yard  Length Over All  \\\n",
       "0        DN3423                        NaN            128.8   \n",
       "1  YN831 DN3365  Royal van Lent, Amsterdam            143.5   \n",
       "2        DN3331                        NaN            136.0   \n",
       "3       DN2631                         NaN            180.0   \n",
       "4        DN3403                        NaN            131.0   \n",
       "\n",
       "   Draught Design Deadweight  Depth  Beam Moulded  \n",
       "0                       6.00  11.55         22.50  \n",
       "1                       5.95  11.35         20.00  \n",
       "2                       5.83   9.93         19.75  \n",
       "3                       5.80  12.90         22.50  \n",
       "4                       5.60  11.10         21.20  "
      ]
     },
     "execution_count": 3,
     "metadata": {},
     "output_type": "execute_result"
    }
   ],
   "source": [
    "# Prepare dataset\n",
    "tabel = pd.read_excel('J:\\Studio De Voogt\\Specialists & NA\\Feadship Database\\Feadship Python\\JOSHA_workingstudent_2024\\Main Dimensions Depth\\Main dimensions Cleaned.xlsx')\n",
    "tabel = tabel.dropna(subset=['Length Over All', 'Draught Design Deadweight', 'Depth', 'Beam Moulded']) #Remove missing values\n",
    "\n",
    "# Show dataframe\n",
    "tabel.head()"
   ]
  },
  {
   "cell_type": "code",
   "execution_count": 4,
   "metadata": {},
   "outputs": [],
   "source": [
    "# Rename variables\n",
    "Loa = tabel['Length Over All']\n",
    "Tfull = tabel['Draught Design Deadweight']\n",
    "D = tabel['Depth']\n",
    "Bmld = tabel['Beam Moulded']"
   ]
  },
  {
   "cell_type": "code",
   "execution_count": 5,
   "metadata": {},
   "outputs": [],
   "source": [
    "# Define variables for Random Forest\n",
    "x = tabel.loc[:, ~tabel.columns.isin(['Number', 'Yard', 'Depth'])]\n",
    "x = sm.add_constant(x)\n",
    "y = D"
   ]
  },
  {
   "cell_type": "markdown",
   "metadata": {},
   "source": [
    "### Random Forest Model: without outliers"
   ]
  },
  {
   "cell_type": "code",
   "execution_count": 6,
   "metadata": {},
   "outputs": [],
   "source": [
    "# Prepare data: split dataset for validation purposes\n",
    "x_train, x_test, y_train, y_test = train_test_split(x, y, test_size = 0.20, random_state = 42) # Use 20% for testing and 80% for training\n",
    "\n",
    "#Install package\n",
    "from sklearn.ensemble import RandomForestRegressor\n",
    "\n",
    "# Initializing the Random Forest Regression model with 100 decision trees, max depth is 10 layers\n",
    "rf = RandomForestRegressor(n_estimators = 100, max_depth=10, random_state = 42) # Random_state ensures consistency of the output results"
   ]
  },
  {
   "cell_type": "markdown",
   "metadata": {},
   "source": [
    "Cross-validation for training model performance:"
   ]
  },
  {
   "cell_type": "code",
   "execution_count": 7,
   "metadata": {},
   "outputs": [
    {
     "name": "stdout",
     "output_type": "stream",
     "text": [
      "The results of the cross-validation:\n",
      "R² scores with 5-folded cross-validation: [0.95894554 0.95643253 0.972474   0.96577609 0.96030364]\n",
      "Average R² score: 0.9627863620071636\n",
      "Adjusted R² scores of the cross-validation: [0.9587845456093674, 0.9562616819279394, 0.9723660506348213, 0.9656418809527053, 0.9601479717346545]\n",
      "Average adjusted R² score: 0.9626404261718976\n"
     ]
    }
   ],
   "source": [
    "# Install package\n",
    "from sklearn.model_selection import cross_val_score\n",
    "\n",
    "# 5-fold cross-validation for the Random Forest model\n",
    "cv_scores = cross_val_score(rf, x_train, y_train, cv=5, scoring='r2')\n",
    "\n",
    "print(\"The results of the cross-validation:\")\n",
    "print(f'R² scores with 5-folded cross-validation: {cv_scores}')\n",
    "print(f'Average R² score: {np.mean(cv_scores)}')\n",
    "\n",
    "n = x.shape[0]  # Number observations in the dataset\n",
    "p = x.shape[1]  # Number observations in the dataset\n",
    "\n",
    "adjusted_r2_scores = [1 - ((1 - r2) * (n - 1) / (n - p - 1)) for r2 in cv_scores]\n",
    "print(f'Adjusted R² scores of the cross-validation: {adjusted_r2_scores}')\n",
    "print(f'Average adjusted R² score: {np.mean(adjusted_r2_scores)}')"
   ]
  },
  {
   "cell_type": "markdown",
   "metadata": {},
   "source": [
    "Fitting the Random Forest model:"
   ]
  },
  {
   "cell_type": "code",
   "execution_count": 8,
   "metadata": {},
   "outputs": [
    {
     "name": "stdout",
     "output_type": "stream",
     "text": [
      "R² op de trainingset: 0.993157665760146\n",
      "R² op de testset: 0.9600010259911698\n",
      "Mean Squared Error (MSE) op de testset: 0.09956172827405133\n",
      "Root Mean Squared Error (RMSE) op de testset: 0.3155340366332154\n"
     ]
    }
   ],
   "source": [
    "# Fitting the Random Forest Regression model to the data\n",
    "rf_model = rf.fit(x_train, y_train)\n",
    "\n",
    "# R² for the trainingsset --> is expected to be close to 1\n",
    "y_train_pred = rf_model.predict(x_train)\n",
    "r2_train = r2_score(y_train, y_train_pred)\n",
    "print(f'R² op de trainingset: {r2_train}')\n",
    "\n",
    "# R² for the testset --> more relevant\n",
    "y_test_pred = rf_model.predict(x_test)\n",
    "r2_test = r2_score(y_test, y_test_pred)\n",
    "print(f'R² op de testset: {r2_test}')\n",
    "\n",
    "# MSE and RMSE for the testset\n",
    "mse_test = mean_squared_error(y_test, y_test_pred)\n",
    "rmse_test = np.sqrt(mse_test)\n",
    "print(f'Mean Squared Error (MSE) op de testset: {mse_test}')\n",
    "print(f'Root Mean Squared Error (RMSE) op de testset: {rmse_test}')"
   ]
  },
  {
   "cell_type": "code",
   "execution_count": null,
   "metadata": {},
   "outputs": [],
   "source": [
    "# Visualize Random Forest example tree (in reality there are 100 trees)\n",
    "from sklearn.tree import plot_tree\n",
    "plt.figure(figsize=(15, 10))\n",
    "plot_tree(rf.estimators_[0], feature_names=x.columns, filled=True, rounded=True)\n",
    "plt.title(\"Decision Tree from Random Forest 1\")\n",
    "plt.savefig('random tree out1.pdf')\n",
    "#plt.show()"
   ]
  },
  {
   "cell_type": "markdown",
   "metadata": {},
   "source": [
    "Plot to show predictive performance"
   ]
  },
  {
   "cell_type": "code",
   "execution_count": 10,
   "metadata": {},
   "outputs": [
    {
     "data": {
      "image/png": "[encoded data removed]",
      "text/plain": [
       "<Figure size 640x480 with 1 Axes>"
      ]
     },
     "metadata": {},
     "output_type": "display_data"
    }
   ],
   "source": [
    "# Plot Actual vs Predicted values TESTset\n",
    "plt.scatter(y_test, y_test_pred)\n",
    "plt.plot([min(y_test), max(y_test)], [min(y_test), max(y_test)], '--', color='red')\n",
    "plt.xlabel('Actual values')\n",
    "plt.ylabel('Predicted values Testset')\n",
    "plt.title('Predicted vs Actual values')\n",
    "plt.show()"
   ]
  },
  {
   "cell_type": "markdown",
   "metadata": {},
   "source": [
    "#### Extract importances for each variable (weights)"
   ]
  },
  {
   "cell_type": "code",
   "execution_count": 11,
   "metadata": {},
   "outputs": [
    {
     "name": "stdout",
     "output_type": "stream",
     "text": [
      "Variable: Beam Moulded         Importance: 0.8\n",
      "Variable: Length Over All      Importance: 0.11\n",
      "Variable: Draught Design Deadweight Importance: 0.1\n",
      "Variable: const                Importance: 0.0\n"
     ]
    }
   ],
   "source": [
    "# Extract list of importance weights for variables\n",
    "importances = list(rf.feature_importances_)\n",
    "\n",
    "# Redefine X since it is a dataframe\n",
    "indp_variables = x.columns if hasattr(x, 'columns') else x\n",
    "\n",
    " # List of tuples: combine variables with importances\n",
    "x_importances = [(indp_variable, round(importance, 2)) for indp_variable, importance in zip(indp_variables, importances)]\n",
    "x_importances = sorted(x_importances, key=lambda x: x[1], reverse=True) # Sort to most important first\n",
    "\n",
    "# Print out the independant variables and their importance\n",
    "for indp_variable, importance in x_importances:\n",
    "    print(f'Variable: {indp_variable:20} Importance: {importance}')"
   ]
  },
  {
   "cell_type": "code",
   "execution_count": 12,
   "metadata": {},
   "outputs": [
    {
     "data": {
      "image/png": "[encoded data removed]",
      "text/plain": [
       "<Figure size 640x480 with 1 Axes>"
      ]
     },
     "metadata": {},
     "output_type": "display_data"
    }
   ],
   "source": [
    "#Set x_values as range on x-axis\n",
    "x_values = list(range(len(importances)))\n",
    "\n",
    "# Create boxplot for variable importances\n",
    "plt.style.use('fivethirtyeight')\n",
    "plt.bar(x_values, importances, orientation = 'vertical')\n",
    "plt.xticks(x_values, x, rotation='vertical')\n",
    "plt.ylabel('Importance'); plt.xlabel('Variable'); plt.title('Variable Importances');\n",
    "plt.show()"
   ]
  },
  {
   "cell_type": "markdown",
   "metadata": {},
   "source": [
    "All Predictions for Depth in table"
   ]
  },
  {
   "cell_type": "code",
   "execution_count": 13,
   "metadata": {},
   "outputs": [
    {
     "data": {
      "application/vnd.microsoft.datawrangler.viewer.v0+json": {
       "columns": [
        {
         "name": "index",
         "rawType": "int64",
         "type": "integer"
        },
        {
         "name": "Number",
         "rawType": "object",
         "type": "string"
        },
        {
         "name": "Yard",
         "rawType": "object",
         "type": "unknown"
        },
        {
         "name": "Length Over All",
         "rawType": "float64",
         "type": "float"
        },
        {
         "name": "Draught Design Deadweight",
         "rawType": "float64",
         "type": "float"
        },
        {
         "name": "Depth",
         "rawType": "float64",
         "type": "float"
        },
        {
         "name": "Beam Moulded",
         "rawType": "float64",
         "type": "float"
        },
        {
         "name": "Predicted_Depth_RF",
         "rawType": "float64",
         "type": "float"
        },
        {
         "name": "residual_RF",
         "rawType": "float64",
         "type": "float"
        },
        {
         "name": "residual_RF %",
         "rawType": "float64",
         "type": "float"
        }
       ],
       "conversionMethod": "pd.DataFrame",
       "ref": "b2ef941f-a13f-4835-9564-4187e03d5e60",
       "rows": [
        [
         "0",
         "DN3423",
         null,
         "128.8",
         "6.0",
         "11.55",
         "22.5",
         "11.343999999999987",
         "0.20600000000001373",
         "-1.7835497835499023"
        ],
        [
         "1",
         "YN831 DN3365",
         "Royal van Lent, Amsterdam",
         "143.5",
         "5.95",
         "11.35",
         "20.0",
         "10.892899999999997",
         "0.4571000000000023",
         "-4.027312775330417"
        ],
        [
         "2",
         "DN3331",
         null,
         "136.0",
         "5.83",
         "9.93",
         "19.75",
         "10.300799999999983",
         "-0.37079999999998314",
         "3.7341389728094985"
        ],
        [
         "3",
         "DN2631 ",
         null,
         "180.0",
         "5.8",
         "12.9",
         "22.5",
         "10.846400000000003",
         "2.0535999999999976",
         "-15.91937984496122"
        ],
        [
         "4",
         "DN3403",
         null,
         "131.0",
         "5.6",
         "11.1",
         "21.2",
         "10.710800000000004",
         "0.3891999999999953",
         "-3.5063063063062643"
        ]
       ],
       "shape": {
        "columns": 9,
        "rows": 5
       }
      },
      "text/html": [
       "<div>\n",
       "<style scoped>\n",
       "    .dataframe tbody tr th:only-of-type {\n",
       "        vertical-align: middle;\n",
       "    }\n",
       "\n",
       "    .dataframe tbody tr th {\n",
       "        vertical-align: top;\n",
       "    }\n",
       "\n",
       "    .dataframe thead th {\n",
       "        text-align: right;\n",
       "    }\n",
       "</style>\n",
       "<table border=\"1\" class=\"dataframe\">\n",
       "  <thead>\n",
       "    <tr style=\"text-align: right;\">\n",
       "      <th></th>\n",
       "      <th>Number</th>\n",
       "      <th>Yard</th>\n",
       "      <th>Length Over All</th>\n",
       "      <th>Draught Design Deadweight</th>\n",
       "      <th>Depth</th>\n",
       "      <th>Beam Moulded</th>\n",
       "      <th>Predicted_Depth_RF</th>\n",
       "      <th>residual_RF</th>\n",
       "      <th>residual_RF %</th>\n",
       "    </tr>\n",
       "  </thead>\n",
       "  <tbody>\n",
       "    <tr>\n",
       "      <th>0</th>\n",
       "      <td>DN3423</td>\n",
       "      <td>NaN</td>\n",
       "      <td>128.8</td>\n",
       "      <td>6.00</td>\n",
       "      <td>11.55</td>\n",
       "      <td>22.50</td>\n",
       "      <td>11.3440</td>\n",
       "      <td>0.2060</td>\n",
       "      <td>-1.783550</td>\n",
       "    </tr>\n",
       "    <tr>\n",
       "      <th>1</th>\n",
       "      <td>YN831 DN3365</td>\n",
       "      <td>Royal van Lent, Amsterdam</td>\n",
       "      <td>143.5</td>\n",
       "      <td>5.95</td>\n",
       "      <td>11.35</td>\n",
       "      <td>20.00</td>\n",
       "      <td>10.8929</td>\n",
       "      <td>0.4571</td>\n",
       "      <td>-4.027313</td>\n",
       "    </tr>\n",
       "    <tr>\n",
       "      <th>2</th>\n",
       "      <td>DN3331</td>\n",
       "      <td>NaN</td>\n",
       "      <td>136.0</td>\n",
       "      <td>5.83</td>\n",
       "      <td>9.93</td>\n",
       "      <td>19.75</td>\n",
       "      <td>10.3008</td>\n",
       "      <td>-0.3708</td>\n",
       "      <td>3.734139</td>\n",
       "    </tr>\n",
       "    <tr>\n",
       "      <th>3</th>\n",
       "      <td>DN2631</td>\n",
       "      <td>NaN</td>\n",
       "      <td>180.0</td>\n",
       "      <td>5.80</td>\n",
       "      <td>12.90</td>\n",
       "      <td>22.50</td>\n",
       "      <td>10.8464</td>\n",
       "      <td>2.0536</td>\n",
       "      <td>-15.919380</td>\n",
       "    </tr>\n",
       "    <tr>\n",
       "      <th>4</th>\n",
       "      <td>DN3403</td>\n",
       "      <td>NaN</td>\n",
       "      <td>131.0</td>\n",
       "      <td>5.60</td>\n",
       "      <td>11.10</td>\n",
       "      <td>21.20</td>\n",
       "      <td>10.7108</td>\n",
       "      <td>0.3892</td>\n",
       "      <td>-3.506306</td>\n",
       "    </tr>\n",
       "  </tbody>\n",
       "</table>\n",
       "</div>"
      ],
      "text/plain": [
       "         Number                       Yard  Length Over All  \\\n",
       "0        DN3423                        NaN            128.8   \n",
       "1  YN831 DN3365  Royal van Lent, Amsterdam            143.5   \n",
       "2        DN3331                        NaN            136.0   \n",
       "3       DN2631                         NaN            180.0   \n",
       "4        DN3403                        NaN            131.0   \n",
       "\n",
       "   Draught Design Deadweight  Depth  Beam Moulded  Predicted_Depth_RF  \\\n",
       "0                       6.00  11.55         22.50             11.3440   \n",
       "1                       5.95  11.35         20.00             10.8929   \n",
       "2                       5.83   9.93         19.75             10.3008   \n",
       "3                       5.80  12.90         22.50             10.8464   \n",
       "4                       5.60  11.10         21.20             10.7108   \n",
       "\n",
       "   residual_RF  residual_RF %  \n",
       "0       0.2060      -1.783550  \n",
       "1       0.4571      -4.027313  \n",
       "2      -0.3708       3.734139  \n",
       "3       2.0536     -15.919380  \n",
       "4       0.3892      -3.506306  "
      ]
     },
     "execution_count": 13,
     "metadata": {},
     "output_type": "execute_result"
    }
   ],
   "source": [
    "# All predictions for rf\n",
    "predictions_rf = rf.predict(x)\n",
    "tabel['Predicted_Depth_RF'] = predictions_rf\n",
    "tabel['residual_RF'] = y - predictions_rf\n",
    "tabel['residual_RF %'] = ((predictions_rf -y) / y)*100\n",
    "pd.options.display.max_rows = None\n",
    "tabel.head()"
   ]
  },
  {
   "cell_type": "markdown",
   "metadata": {},
   "source": [
    "### Predict Depth: fill in your specific values here!"
   ]
  },
  {
   "cell_type": "code",
   "execution_count": 14,
   "metadata": {},
   "outputs": [
    {
     "name": "stdout",
     "output_type": "stream",
     "text": [
      "   const  Length Over All  Draught Design Deadweight  Beam Moulded\n",
      "0      0           119.75                        5.5            19\n",
      "This will be the predicted Depth according to the trained Random Forest model: [9.1461]\n"
     ]
    }
   ],
   "source": [
    "# Fill in the green numbers that correspond to the variable names in red preceding them:\n",
    "############################\n",
    "\n",
    "x_new_data = {\n",
    "    'const': [0], \n",
    "    'Length Over All': [119.75],\n",
    "    'Draught Design Deadweight': [5.5],\n",
    "    'Beam Moulded': [19],\n",
    "}\n",
    "\n",
    "# Create a DataFrame for X_new\n",
    "x_new = pd.DataFrame(x_new_data)\n",
    "print(x_new)\n",
    "\n",
    "# Predict the target values (y) using the trained model\n",
    "y_new_pred_rf = rf.predict(x_new)\n",
    "print('This will be the predicted Depth according to the trained Random Forest model:', y_new_pred_rf)"
   ]
  }
 ],
 "metadata": {
  "kernelspec": {
   "display_name": "Python 3",
   "language": "python",
   "name": "python3"
  },
  "language_info": {
   "codemirror_mode": {
    "name": "ipython",
    "version": 3
   },
   "file_extension": ".py",
   "mimetype": "text/x-python",
   "name": "python",
   "nbconvert_exporter": "python",
   "pygments_lexer": "ipython3",
   "version": "3.11.7"
  }
 },
 "nbformat": 4,
 "nbformat_minor": 2
}
