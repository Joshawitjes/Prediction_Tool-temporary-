{
 "cells": [
  {
   "cell_type": "markdown",
   "metadata": {},
   "source": [
    "### Gradient Boosting Regressor (for small dataset, few features)"
   ]
  },
  {
   "cell_type": "code",
   "execution_count": null,
   "metadata": {},
   "outputs": [],
   "source": [
    "# Import necessary libraries\n",
    "from sklearn.ensemble import GradientBoostingRegressor\n",
    "\n",
    "# Define variables for GBR\n",
    "X_GBR = X_GT\n",
    "#x = sm.add_constant(x)\n",
    "y_GBR = y_GT\n",
    "\n",
    "# Split the data into training and testing sets\n",
    "X_train, X_test, y_train, y_test = train_test_split(X_GBR, y_GBR, test_size=0.2, random_state=42)\n",
    "\n",
    "# Initialize the Gradient Boosting Regressor\n",
    "gbr = GradientBoostingRegressor(n_estimators=100, learning_rate=0.1, max_depth=3, random_state=42)\n",
    "\n",
    "# Fit the model to the training data\n",
    "gbr.fit(X_train, y_train)"
   ]
  },
  {
   "cell_type": "code",
   "execution_count": null,
   "metadata": {},
   "outputs": [],
   "source": [
    "from sklearn.feature_selection import SelectFromModel\n",
    "\n",
    "# Adjust threshold to select a specific number of features\n",
    "selector = SelectFromModel(gbr, threshold=-np.inf, max_features=3, prefit=True)\n",
    "\n",
    "# Transform the dataset to include only selected features\n",
    "X_train_selected = selector.transform(X_train)\n",
    "X_test_selected = selector.transform(X_test)\n",
    "\n",
    "# 🔧 Step 5: Get the selected feature names\n",
    "selected_features = X_GBR.columns[selector.get_support()]\n",
    "print(\"\\nSelected Features:\", selected_features)"
   ]
  },
  {
   "cell_type": "code",
   "execution_count": null,
   "metadata": {},
   "outputs": [],
   "source": [
    "# Evaluate the model using the selected features\n",
    "gbr_selected = GradientBoostingRegressor(n_estimators=100, learning_rate=0.1, max_depth=3, random_state=42)\n",
    "gbr_selected.fit(X_train_selected, y_train)\n",
    "y_pred_selected = gbr_selected.predict(X_test_selected)\n",
    "\n",
    "# Print evaluation metrics\n",
    "mse = mean_squared_error(y_test, y_pred_selected)\n",
    "r2 = r2_score(y_test, y_pred_selected)\n",
    "\n",
    "print(f\"\\n📊 Mean Squared Error (Test): {mse:.2f}\")\n",
    "print(f\"📈 R² Score (Test): {r2:.2f}\")"
   ]
  },
  {
   "cell_type": "markdown",
   "metadata": {},
   "source": [
    "### XGBoost Regressor (for large dataset, many features)"
   ]
  },
  {
   "cell_type": "code",
   "execution_count": null,
   "metadata": {},
   "outputs": [],
   "source": [
    "import xgboost\n",
    "from xgboost import XGBRegressor\n",
    "\n",
    "# Convert columns to numeric\n",
    "X = X_GT.apply(pd.to_numeric, errors='coerce')\n",
    "y = pd.to_numeric(y_GT, errors='coerce')\n",
    "\n",
    "# Define variables for XGBoost\n",
    "X_XGBr = X\n",
    "#x = sm.add_constant(x)\n",
    "y_XGBr = y\n",
    "\n",
    "# Split the data into training and testing sets\n",
    "X_train, X_test, y_train, y_test = train_test_split(X_XGBr, y_XGBr, test_size=0.2, random_state=42)\n",
    "\n",
    "# Initialize the XGBoost Regressor\n",
    "xgbr = XGBRegressor(n_estimators=100, learning_rate=0.1, max_depth=3, random_state=42)\n",
    "\n",
    "# Fit the model to the training data\n",
    "xgbr.fit(X_train, y_train)"
   ]
  },
  {
   "cell_type": "code",
   "execution_count": null,
   "metadata": {},
   "outputs": [],
   "source": [
    "from sklearn.feature_selection import SelectFromModel\n",
    "\n",
    "# Apply SelectFromModel to choose important features\n",
    "selector = SelectFromModel(xgbr, threshold=-np.inf, max_features=3, prefit=True)\n",
    "X_train_selected = selector.transform(X_train)\n",
    "X_test_selected = selector.transform(X_test)\n",
    "\n",
    "# Get the selected feature names\n",
    "selected_features = X_XGBr.columns[selector.get_support()]\n",
    "print(\"\\nSelected Features:\", selected_features)"
   ]
  },
  {
   "cell_type": "code",
   "execution_count": null,
   "metadata": {},
   "outputs": [],
   "source": [
    "# Evaluate the model using the selected features\n",
    "xgbr.fit(X_train_selected, y_train)\n",
    "y_pred_selected = xgbr.predict(X_test_selected)\n",
    "\n",
    "# Print evaluation metrics\n",
    "mse = mean_squared_error(y_test, y_pred_selected)\n",
    "r2 = r2_score(y_test, y_pred_selected)\n",
    "\n",
    "print(f\"\\n📊 Mean Squared Error (Test): {mse:.2f}\")\n",
    "print(f\"📈 R² Score (Test): {r2:.2f}\")"
   ]
  }
 ],
 "metadata": {
  "kernelspec": {
   "display_name": "Python 3",
   "language": "python",
   "name": "python3"
  },
  "language_info": {
   "name": "python",
   "version": "3.11.7"
  }
 },
 "nbformat": 4,
 "nbformat_minor": 2
}
