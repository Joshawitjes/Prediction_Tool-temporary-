{
 "cells": [
  {
   "cell_type": "markdown",
   "metadata": {},
   "source": [
    "### Predicting Depth with robust OLS Regression Method"
   ]
  },
  {
   "cell_type": "code",
   "execution_count": 1,
   "metadata": {},
   "outputs": [],
   "source": [
    "# Install packages\n",
    "import statsmodels.api as sm\n",
    "import numpy as np\n",
    "import matplotlib.pyplot as plt\n",
    "import pandas as pd\n",
    "import seaborn as sns\n",
    "from sklearn.model_selection import train_test_split, cross_val_score\n",
    "from sklearn import linear_model\n",
    "from sklearn.linear_model import LinearRegression\n",
    "from sklearn import metrics\n",
    "from sklearn.metrics import mean_squared_error, mean_absolute_error, r2_score"
   ]
  },
  {
   "cell_type": "code",
   "execution_count": 2,
   "metadata": {},
   "outputs": [
    {
     "name": "stdout",
     "output_type": "stream",
     "text": [
      "j:\\Studio De Voogt\\Specialists & NA\\Feadship Database\\Feadship Python\\JOSHA_workingstudent_2024\\Main Dimensions Depth\\Finished Scripts\n"
     ]
    }
   ],
   "source": [
    "# Set loading path\n",
    "import os\n",
    "current_path = os.getcwd()\n",
    "os.chdir('j:\\Studio De Voogt\\Specialists & NA\\Feadship Database\\Feadship Python\\Regression methods\\Python Scripts')\n",
    "print(current_path)"
   ]
  },
  {
   "cell_type": "code",
   "execution_count": 3,
   "metadata": {},
   "outputs": [
    {
     "data": {
      "application/vnd.microsoft.datawrangler.viewer.v0+json": {
       "columns": [
        {
         "name": "index",
         "rawType": "int64",
         "type": "integer"
        },
        {
         "name": "Number",
         "rawType": "object",
         "type": "string"
        },
        {
         "name": "Yard",
         "rawType": "object",
         "type": "unknown"
        },
        {
         "name": "Length Over All",
         "rawType": "float64",
         "type": "float"
        },
        {
         "name": "Draught Design Deadweight",
         "rawType": "float64",
         "type": "float"
        },
        {
         "name": "Depth",
         "rawType": "float64",
         "type": "float"
        },
        {
         "name": "Beam Moulded",
         "rawType": "float64",
         "type": "float"
        }
       ],
       "conversionMethod": "pd.DataFrame",
       "ref": "52c4de80-1fd6-4aa7-802e-0c355420aad7",
       "rows": [
        [
         "0",
         "DN3423",
         null,
         "128.8",
         "6.0",
         "11.55",
         "22.5"
        ],
        [
         "1",
         "YN831 DN3365",
         "Royal van Lent, Amsterdam",
         "143.5",
         "5.95",
         "11.35",
         "20.0"
        ],
        [
         "2",
         "DN3331",
         null,
         "136.0",
         "5.83",
         "9.93",
         "19.75"
        ],
        [
         "3",
         "DN2631 ",
         null,
         "180.0",
         "5.8",
         "12.9",
         "22.5"
        ],
        [
         "4",
         "DN3403",
         null,
         "131.0",
         "5.6",
         "11.1",
         "21.2"
        ]
       ],
       "shape": {
        "columns": 6,
        "rows": 5
       }
      },
      "text/html": [
       "<div>\n",
       "<style scoped>\n",
       "    .dataframe tbody tr th:only-of-type {\n",
       "        vertical-align: middle;\n",
       "    }\n",
       "\n",
       "    .dataframe tbody tr th {\n",
       "        vertical-align: top;\n",
       "    }\n",
       "\n",
       "    .dataframe thead th {\n",
       "        text-align: right;\n",
       "    }\n",
       "</style>\n",
       "<table border=\"1\" class=\"dataframe\">\n",
       "  <thead>\n",
       "    <tr style=\"text-align: right;\">\n",
       "      <th></th>\n",
       "      <th>Number</th>\n",
       "      <th>Yard</th>\n",
       "      <th>Length Over All</th>\n",
       "      <th>Draught Design Deadweight</th>\n",
       "      <th>Depth</th>\n",
       "      <th>Beam Moulded</th>\n",
       "    </tr>\n",
       "  </thead>\n",
       "  <tbody>\n",
       "    <tr>\n",
       "      <th>0</th>\n",
       "      <td>DN3423</td>\n",
       "      <td>NaN</td>\n",
       "      <td>128.8</td>\n",
       "      <td>6.00</td>\n",
       "      <td>11.55</td>\n",
       "      <td>22.50</td>\n",
       "    </tr>\n",
       "    <tr>\n",
       "      <th>1</th>\n",
       "      <td>YN831 DN3365</td>\n",
       "      <td>Royal van Lent, Amsterdam</td>\n",
       "      <td>143.5</td>\n",
       "      <td>5.95</td>\n",
       "      <td>11.35</td>\n",
       "      <td>20.00</td>\n",
       "    </tr>\n",
       "    <tr>\n",
       "      <th>2</th>\n",
       "      <td>DN3331</td>\n",
       "      <td>NaN</td>\n",
       "      <td>136.0</td>\n",
       "      <td>5.83</td>\n",
       "      <td>9.93</td>\n",
       "      <td>19.75</td>\n",
       "    </tr>\n",
       "    <tr>\n",
       "      <th>3</th>\n",
       "      <td>DN2631</td>\n",
       "      <td>NaN</td>\n",
       "      <td>180.0</td>\n",
       "      <td>5.80</td>\n",
       "      <td>12.90</td>\n",
       "      <td>22.50</td>\n",
       "    </tr>\n",
       "    <tr>\n",
       "      <th>4</th>\n",
       "      <td>DN3403</td>\n",
       "      <td>NaN</td>\n",
       "      <td>131.0</td>\n",
       "      <td>5.60</td>\n",
       "      <td>11.10</td>\n",
       "      <td>21.20</td>\n",
       "    </tr>\n",
       "  </tbody>\n",
       "</table>\n",
       "</div>"
      ],
      "text/plain": [
       "         Number                       Yard  Length Over All  \\\n",
       "0        DN3423                        NaN            128.8   \n",
       "1  YN831 DN3365  Royal van Lent, Amsterdam            143.5   \n",
       "2        DN3331                        NaN            136.0   \n",
       "3       DN2631                         NaN            180.0   \n",
       "4        DN3403                        NaN            131.0   \n",
       "\n",
       "   Draught Design Deadweight  Depth  Beam Moulded  \n",
       "0                       6.00  11.55         22.50  \n",
       "1                       5.95  11.35         20.00  \n",
       "2                       5.83   9.93         19.75  \n",
       "3                       5.80  12.90         22.50  \n",
       "4                       5.60  11.10         21.20  "
      ]
     },
     "execution_count": 3,
     "metadata": {},
     "output_type": "execute_result"
    }
   ],
   "source": [
    "# Prepare dataset\n",
    "tabel = pd.read_excel('Main Dimensions Cleaned.xlsx')\n",
    "tabel = tabel.dropna(subset=['Length Over All', 'Draught Design Deadweight', 'Depth', 'Beam Moulded']) #Remove missing values\n",
    "\n",
    "# Show dataframe\n",
    "tabel.head()"
   ]
  },
  {
   "cell_type": "markdown",
   "metadata": {},
   "source": [
    "### Regression OLS Model: without outliers"
   ]
  },
  {
   "cell_type": "code",
   "execution_count": 4,
   "metadata": {},
   "outputs": [],
   "source": [
    "# Rename variables\n",
    "Loa = tabel['Length Over All']\n",
    "Tfull = tabel['Draught Design Deadweight']\n",
    "D = tabel['Depth']\n",
    "Bmld = tabel['Beam Moulded']"
   ]
  },
  {
   "cell_type": "code",
   "execution_count": 5,
   "metadata": {},
   "outputs": [
    {
     "name": "stdout",
     "output_type": "stream",
     "text": [
      "                            OLS Regression Results                            \n",
      "==============================================================================\n",
      "Dep. Variable:                  Depth   R-squared:                       0.962\n",
      "Model:                            OLS   Adj. R-squared:                  0.962\n",
      "Method:                 Least Squares   F-statistic:                     4459.\n",
      "Date:                Tue, 06 May 2025   Prob (F-statistic):               0.00\n",
      "Time:                        10:09:29   Log-Likelihood:                -235.77\n",
      "No. Observations:                1025   AIC:                             479.5\n",
      "Df Residuals:                    1021   BIC:                             499.3\n",
      "Df Model:                           3                                         \n",
      "Covariance Type:                  HC0                                         \n",
      "=============================================================================================\n",
      "                                coef    std err          z      P>|z|      [0.025      0.975]\n",
      "---------------------------------------------------------------------------------------------\n",
      "const                         0.3841      0.066      5.798      0.000       0.254       0.514\n",
      "Length Over All               0.0112      0.002      4.922      0.000       0.007       0.016\n",
      "Draught Design Deadweight     0.5225      0.078      6.731      0.000       0.370       0.675\n",
      "Beam Moulded                  0.2662      0.022     11.995      0.000       0.223       0.310\n",
      "==============================================================================\n",
      "Omnibus:                      103.216   Durbin-Watson:                   1.693\n",
      "Prob(Omnibus):                  0.000   Jarque-Bera (JB):              693.628\n",
      "Skew:                          -0.119   Prob(JB):                    2.40e-151\n",
      "Kurtosis:                       7.023   Cond. No.                         302.\n",
      "==============================================================================\n",
      "\n",
      "Notes:\n",
      "[1] Standard Errors are heteroscedasticity robust (HC0)\n"
     ]
    }
   ],
   "source": [
    "# Define variables for regression\n",
    "x = tabel.loc[:, ~tabel.columns.isin(['Number', 'Yard', 'Depth'])]\n",
    "y = D\n",
    "\n",
    "# Run Regression\n",
    "x = sm.add_constant(x)\n",
    "model = sm.OLS(y, x)\n",
    "results = model.fit(cov_type=\"HC0\")\n",
    "print(results.summary())"
   ]
  },
  {
   "cell_type": "code",
   "execution_count": 6,
   "metadata": {},
   "outputs": [
    {
     "name": "stdout",
     "output_type": "stream",
     "text": [
      "   Depth  Predicted_Depth_OLS\n",
      "0  11.55            10.956851\n",
      "1  11.35            10.430661\n",
      "2   9.93            10.217051\n",
      "3  12.90            11.428286\n",
      "4  11.10            10.426574\n"
     ]
    }
   ],
   "source": [
    "# Calculate predicted values\n",
    "predicted_values = results.predict(x)\n",
    "\n",
    "# Check residuals for normality\n",
    "residuals_OLS = y - predicted_values\n",
    "\n",
    "# Add column to dataframe\n",
    "tabel['Predicted_Depth_OLS'] = predicted_values\n",
    "print(tabel[['Depth', 'Predicted_Depth_OLS']].head())"
   ]
  },
  {
   "cell_type": "code",
   "execution_count": 7,
   "metadata": {},
   "outputs": [
    {
     "name": "stdout",
     "output_type": "stream",
     "text": [
      "Mean Squared Error (MSE): 0.09275036192012626\n",
      "Root Mean Squared Error (RMSE): 0.30454944084684554\n"
     ]
    }
   ],
   "source": [
    "# Calculate MSE\n",
    "mse = mean_squared_error(y, predicted_values)\n",
    "print(f\"Mean Squared Error (MSE): {mse}\")\n",
    "\n",
    "# Bereken RMSE\n",
    "rmse = np.sqrt(mse)\n",
    "print(f\"Root Mean Squared Error (RMSE): {rmse}\")"
   ]
  },
  {
   "cell_type": "code",
   "execution_count": 8,
   "metadata": {},
   "outputs": [
    {
     "data": {
      "image/png": "[encoded data removed]",
      "text/plain": [
       "<Figure size 640x480 with 1 Axes>"
      ]
     },
     "metadata": {},
     "output_type": "display_data"
    }
   ],
   "source": [
    "# Actual vs Predicted values\n",
    "plt.scatter(y, predicted_values)\n",
    "plt.plot([y.min(), y.max()], [y.min(), y.max()], 'r--', lw=2)  # Diagonale lijn\n",
    "plt.title('Actual vs Predicted values')\n",
    "plt.xlabel('Actual Values')\n",
    "plt.ylabel('Predicted Values')\n",
    "plt.show()"
   ]
  },
  {
   "cell_type": "markdown",
   "metadata": {},
   "source": [
    "### Predict Depth: fill in your specific values here! "
   ]
  },
  {
   "cell_type": "code",
   "execution_count": 9,
   "metadata": {},
   "outputs": [
    {
     "name": "stdout",
     "output_type": "stream",
     "text": [
      "This will be the predicted Depth according to the robust OLS model: 9.662202664306525\n"
     ]
    }
   ],
   "source": [
    "# Fill in the green numbers that correspond to the variable names in red preceding them:\n",
    "\n",
    "Depth_prediction = results.params['const'] +(results.params['Length Over All']*119.75) +(results.params['Beam Moulded']*19)+(results.params['Draught Design Deadweight']*5.5)\n",
    "print('This will be the predicted Depth according to the robust OLS model:', Depth_prediction)"
   ]
  }
 ],
 "metadata": {
  "kernelspec": {
   "display_name": "Python 3",
   "language": "python",
   "name": "python3"
  },
  "language_info": {
   "codemirror_mode": {
    "name": "ipython",
    "version": 3
   },
   "file_extension": ".py",
   "mimetype": "text/x-python",
   "name": "python",
   "nbconvert_exporter": "python",
   "pygments_lexer": "ipython3",
   "version": "3.11.7"
  }
 },
 "nbformat": 4,
 "nbformat_minor": 2
}
