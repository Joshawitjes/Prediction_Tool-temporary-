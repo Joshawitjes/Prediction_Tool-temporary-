{
 "cells": [
  {
   "cell_type": "code",
   "execution_count": 33,
   "metadata": {},
   "outputs": [],
   "source": [
    "# Import necessary packages\n",
    "import pandas as pd\n",
    "import statsmodels.api as sm\n",
    "import numpy as np\n",
    "import matplotlib.pyplot as plt\n",
    "import pandas as pd\n",
    "from sklearn.model_selection import train_test_split\n",
    "from sklearn import linear_model\n",
    "from sklearn.linear_model import LinearRegression\n",
    "from sklearn import metrics\n",
    "from sklearn.metrics import mean_squared_error, mean_absolute_error, r2_score"
   ]
  },
  {
   "cell_type": "code",
   "execution_count": 34,
   "metadata": {},
   "outputs": [
    {
     "name": "stdout",
     "output_type": "stream",
     "text": [
      "j:\\Studio De Voogt\\Specialists & NA\\Feadship Database\\Feadship Python\\JOSHA_workingstudent_2024\n"
     ]
    }
   ],
   "source": [
    "import os\n",
    "os.chdir('j:\\Studio De Voogt\\Specialists & NA\\Feadship Database\\Feadship Python\\JOSHA_workingstudent_2024\\Main Dimensions Depth')\n",
    "current_path = os.getcwd()\n",
    "print(current_path)"
   ]
  },
  {
   "cell_type": "code",
   "execution_count": 35,
   "metadata": {},
   "outputs": [
    {
     "name": "stdout",
     "output_type": "stream",
     "text": [
      "            Number                       Yard  Length Over All  \\\n",
      "0           DN3423                        NaN           128.80   \n",
      "1     YN831 DN3365  Royal van Lent, Amsterdam           143.50   \n",
      "2           DN3331                        NaN           136.00   \n",
      "3          DN2631                         NaN           180.00   \n",
      "4           DN3403                        NaN           131.00   \n",
      "...            ...                        ...              ...   \n",
      "1020       DN1653                         NaN            25.30   \n",
      "1021       DN1611                         NaN             9.25   \n",
      "1022       DN1589                         NaN            11.45   \n",
      "1023       DN1602                         NaN             7.00   \n",
      "1024        dn3590                        NaN            95.00   \n",
      "\n",
      "      Draught Design Deadweight  Depth  Beam Moulded  \n",
      "0                          6.00  11.55         22.50  \n",
      "1                          5.95  11.35         20.00  \n",
      "2                          5.83   9.93         19.75  \n",
      "3                          5.80  12.90         22.50  \n",
      "4                          5.60  11.10         21.20  \n",
      "...                         ...    ...           ...  \n",
      "1020                       0.75   2.72          5.60  \n",
      "1021                       0.70   1.25          2.70  \n",
      "1022                       0.61   1.15          3.50  \n",
      "1023                       0.25   0.69          2.00  \n",
      "1024                       0.00   6.70         13.00  \n",
      "\n",
      "[1025 rows x 6 columns]\n"
     ]
    }
   ],
   "source": [
    "# Prepare dataset\n",
    "tabel = pd.read_excel('Main Dimensions Cleaned.xlsx')\n",
    "tabel = tabel.dropna(subset=['Length Over All', 'Draught Design Deadweight', 'Depth', 'Beam Moulded'])  # Remove missing values\n",
    "\n",
    "print(tabel)"
   ]
  },
  {
   "cell_type": "code",
   "execution_count": 36,
   "metadata": {},
   "outputs": [],
   "source": [
    "# Rename variables\n",
    "Loa = tabel['Length Over All']\n",
    "Tfull = tabel['Draught Design Deadweight']\n",
    "D = tabel['Depth']\n",
    "Bmld = tabel['Beam Moulded']"
   ]
  },
  {
   "cell_type": "code",
   "execution_count": 37,
   "metadata": {},
   "outputs": [
    {
     "name": "stdout",
     "output_type": "stream",
     "text": [
      "                            OLS Regression Results                            \n",
      "==============================================================================\n",
      "Dep. Variable:                  Depth   R-squared:                       0.963\n",
      "Model:                            OLS   Adj. R-squared:                  0.962\n",
      "Method:                 Least Squares   F-statistic:                     3763.\n",
      "Date:                Tue, 29 Oct 2024   Prob (F-statistic):               0.00\n",
      "Time:                        15:55:50   Log-Likelihood:                -160.85\n",
      "No. Observations:                 717   AIC:                             329.7\n",
      "Df Residuals:                     713   BIC:                             348.0\n",
      "Df Model:                           3                                         \n",
      "Covariance Type:                  HC0                                         \n",
      "=============================================================================================\n",
      "                                coef    std err          z      P>|z|      [0.025      0.975]\n",
      "---------------------------------------------------------------------------------------------\n",
      "const                         0.3802      0.077      4.950      0.000       0.230       0.531\n",
      "Length Over All               0.0105      0.002      4.373      0.000       0.006       0.015\n",
      "Draught Design Deadweight     0.4983      0.094      5.286      0.000       0.314       0.683\n",
      "Beam Moulded                  0.2790      0.026     10.561      0.000       0.227       0.331\n",
      "==============================================================================\n",
      "Omnibus:                       74.840   Durbin-Watson:                   1.962\n",
      "Prob(Omnibus):                  0.000   Jarque-Bera (JB):              501.551\n",
      "Skew:                          -0.103   Prob(JB):                    1.23e-109\n",
      "Kurtosis:                       7.092   Cond. No.                         295.\n",
      "==============================================================================\n",
      "\n",
      "Notes:\n",
      "[1] Standard Errors are heteroscedasticity robust (HC0)\n"
     ]
    }
   ],
   "source": [
    "# Define variables for regression\n",
    "x = tabel.loc[:, ~tabel.columns.isin(['Number', 'Yard', 'Depth'])]\n",
    "y = D\n",
    "\n",
    "# Split into training and testing sets (80-20 split)\n",
    "x_train, x_test, y_train, y_test = train_test_split(x, y, test_size=0.25, random_state=42) #25% test set and 75% training set\n",
    "\n",
    "# Add constant to training set for intercept\n",
    "x_train = sm.add_constant(x_train)\n",
    "x_test = sm.add_constant(x_test)\n",
    "\n",
    "# Run regression\n",
    "model = sm.OLS(y_train, x_train)\n",
    "results = model.fit(cov_type=\"HC0\")\n",
    "print(results.summary())"
   ]
  },
  {
   "cell_type": "code",
   "execution_count": 38,
   "metadata": {},
   "outputs": [
    {
     "name": "stdout",
     "output_type": "stream",
     "text": [
      "     Depth  Predicted_Depth_OLS\n",
      "527    5.1             5.521533\n",
      "359    6.0             6.076129\n",
      "447    4.8             5.376403\n",
      "31     8.0             7.595722\n",
      "621    4.5             4.587326\n"
     ]
    }
   ],
   "source": [
    "# Calculate predicted values\n",
    "predicted_values = results.predict(x_test)\n",
    "\n",
    "# Check residuals for normality\n",
    "residuals_OLS = y_test - predicted_values\n",
    "\n",
    "# Add column to dataframe\n",
    "tabel.loc[x_test.index, 'Predicted_Depth_OLS'] = predicted_values\n",
    "test_results = tabel.loc[x_test.index, ['Depth', 'Predicted_Depth_OLS']]\n",
    "\n",
    "print(test_results.head())"
   ]
  },
  {
   "cell_type": "code",
   "execution_count": 39,
   "metadata": {},
   "outputs": [
    {
     "name": "stdout",
     "output_type": "stream",
     "text": [
      "Mean Squared Error (MSE): 0.09574951099783663\n",
      "Root Mean Squared Error (RMSE): 0.30943417878094304\n"
     ]
    }
   ],
   "source": [
    "# Calculate MSE\n",
    "mse = mean_squared_error(y_test, predicted_values)\n",
    "print(f\"Mean Squared Error (MSE): {mse}\")\n",
    "\n",
    "# Bereken RMSE\n",
    "rmse = np.sqrt(mse)\n",
    "print(f\"Root Mean Squared Error (RMSE): {rmse}\")"
   ]
  },
  {
   "cell_type": "markdown",
   "metadata": {},
   "source": [
    "### Predict Depth: fill in your specific values here! "
   ]
  },
  {
   "cell_type": "code",
   "execution_count": 40,
   "metadata": {},
   "outputs": [
    {
     "name": "stdout",
     "output_type": "stream",
     "text": [
      "Dit is de voorspelling volgens robuuste OLS: 7.208595344757467\n"
     ]
    }
   ],
   "source": [
    "# Fill in the green numbers which correspond to the variable names in red before it:\n",
    "\n",
    "Depth_prediction = results.params['const'] +(results.params['Length Over All']*95.65) +(results.params['Beam Moulded']*14)+(results.params['Draught Design Deadweight']*3.85)\n",
    "print('Dit is de voorspelling volgens robuuste OLS:', Depth_prediction)"
   ]
  }
 ],
 "metadata": {
  "kernelspec": {
   "display_name": "Python 3",
   "language": "python",
   "name": "python3"
  },
  "language_info": {
   "codemirror_mode": {
    "name": "ipython",
    "version": 3
   },
   "file_extension": ".py",
   "mimetype": "text/x-python",
   "name": "python",
   "nbconvert_exporter": "python",
   "pygments_lexer": "ipython3",
   "version": "3.11.7"
  }
 },
 "nbformat": 4,
 "nbformat_minor": 2
}
